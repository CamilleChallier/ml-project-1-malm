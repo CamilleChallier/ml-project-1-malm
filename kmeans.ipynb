{
 "cells": [
  {
   "cell_type": "code",
   "execution_count": 1,
   "metadata": {},
   "outputs": [],
   "source": [
    "\n",
    "import pickle\n",
    "import timeit\n",
    "from copy import deepcopy\n",
    "\n",
    "import numpy as np\n",
    "import matplotlib.pyplot as plt\n",
    "\n",
    "%matplotlib inline\n",
    "\n",
    "from pre_processing import *\n",
    "from utils import load_data\n",
    "from clustering import KMeans"
   ]
  },
  {
   "cell_type": "code",
   "execution_count": 2,
   "metadata": {},
   "outputs": [],
   "source": [
    "X_train, X_test, y_train, X_cols, train_idxs, test_idxs = load_data()"
   ]
  },
  {
   "cell_type": "code",
   "execution_count": 3,
   "metadata": {},
   "outputs": [
    {
     "name": "stdout",
     "output_type": "stream",
     "text": [
      "X_train.shape=(328135, 321)\n",
      "Processing step: FeatureDropper\n",
      "Processing step: ToNaNFiller\n",
      "Processing step: MissingValuesDropper\n",
      "(67,)\n",
      "Processing step: ConstantFeaturesRemover\n",
      "Processing step: FillImputer\n",
      "Processing step: PropPredictorsRemover\n",
      "Processing step: Standardizer\n",
      "Processing step: OneHotEncoder\n",
      "X_train.shape=(328135, 670)\n",
      "end_preprocessing-start_preprocessing=32.19036596500001\n"
     ]
    }
   ],
   "source": [
    "preprocessor_pipe = Pipeline(\n",
    "    steps=[\n",
    "        (FeatureDropper, None),\n",
    "        (ToNaNFiller, None),\n",
    "        (MissingValuesDropper, None),\n",
    "        (ConstantFeaturesRemover, None),\n",
    "        (FillImputer, {\"strategy\": \"median\"}),\n",
    "        (PropPredictorsRemover, None),\n",
    "        (Standardizer, {\"with_nan\": False}),\n",
    "        (OneHotEncoder, {\"drop_last\": True}),\n",
    "    ],\n",
    ")\n",
    "print(f\"{X_train.shape=}\")\n",
    "start_preprocessing = timeit.default_timer()\n",
    "X_train, X_train_cols = preprocessor_pipe.fit_transform(X_train, deepcopy(X_cols))\n",
    "end_preprocessing = timeit.default_timer()\n",
    "print(f\"{X_train.shape=}\")\n",
    "print(f\"{end_preprocessing-start_preprocessing=}\")"
   ]
  },
  {
   "cell_type": "code",
   "execution_count": 4,
   "metadata": {},
   "outputs": [],
   "source": [
    "kmeans = KMeans(n_clusters=10, max_iter=100, verbose=True)"
   ]
  },
  {
   "cell_type": "code",
   "execution_count": 5,
   "metadata": {},
   "outputs": [],
   "source": [
    "kmeans.fit(X_train[y_train == -1])\n",
    "with open(\"kmeans_5c_m1_s2.pkl\", \"wb\") as f:\n",
    "    pickle.dump((kmeans.centroids, kmeans.last_centroid_idxs), f)"
   ]
  },
  {
   "cell_type": "code",
   "execution_count": 6,
   "metadata": {},
   "outputs": [
    {
     "data": {
      "text/plain": [
       "(array([0, 1, 2, 3, 4]), array([23481, 92516, 63127, 61878, 58158]))"
      ]
     },
     "execution_count": 6,
     "metadata": {},
     "output_type": "execute_result"
    }
   ],
   "source": [
    "np.unique(kmeans.last_centroid_idxs, return_counts=True)"
   ]
  },
  {
   "cell_type": "code",
   "execution_count": 7,
   "metadata": {},
   "outputs": [
    {
     "data": {
      "text/plain": [
       "(5, 670)"
      ]
     },
     "execution_count": 7,
     "metadata": {},
     "output_type": "execute_result"
    }
   ],
   "source": [
    "kmeans.centroids.shape"
   ]
  },
  {
   "cell_type": "code",
   "execution_count": 8,
   "metadata": {},
   "outputs": [
    {
     "name": "stdout",
     "output_type": "stream",
     "text": [
      "[0.         6.55726268 7.23401881 7.45271627 6.98584155]\n",
      "[6.55726268 0.         3.5231781  4.69302515 4.06758154]\n",
      "[7.23401881 3.5231781  0.         3.86543096 5.65424628]\n",
      "[7.45271627 4.69302515 3.86543096 0.         4.35627962]\n",
      "[6.98584155 4.06758154 5.65424628 4.35627962 0.        ]\n"
     ]
    }
   ],
   "source": [
    "for i in range(5):\n",
    "    print(np.linalg.norm(kmeans.centroids - kmeans.centroids[i], axis=1))"
   ]
  },
  {
   "cell_type": "code",
   "execution_count": null,
   "metadata": {},
   "outputs": [],
   "source": []
  }
 ],
 "metadata": {
  "kernelspec": {
   "display_name": "backprop",
   "language": "python",
   "name": "python3"
  },
  "language_info": {
   "codemirror_mode": {
    "name": "ipython",
    "version": 3
   },
   "file_extension": ".py",
   "mimetype": "text/x-python",
   "name": "python",
   "nbconvert_exporter": "python",
   "pygments_lexer": "ipython3",
   "version": "3.10.8"
  }
 },
 "nbformat": 4,
 "nbformat_minor": 2
}
